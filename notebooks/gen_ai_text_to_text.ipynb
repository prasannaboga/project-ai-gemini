{
 "cells": [
  {
   "cell_type": "code",
   "execution_count": 12,
   "metadata": {},
   "outputs": [],
   "source": [
    "from project_cvb.config.settings import Settings\n",
    "\n",
    "settings = Settings()\n",
    "environment = settings.ENVIRONMENT\n",
    "# print(settings)"
   ]
  },
  {
   "cell_type": "code",
   "execution_count": 23,
   "metadata": {},
   "outputs": [
    {
     "name": "stdout",
     "output_type": "stream",
     "text": [
      "development\n",
      "In the realm of software development, a new star emerged, illuminating the path towards code efficiency and collaboration. Its name was Visual Studio Code, or VS Code as it was affectionately known.\n",
      "\n",
      "Once upon a time, in a crowded landscape of development environments, VS Code made its debut as an unassuming yet ambitious newcomer. Developed by the software giant Microsoft, it offered a lightweight and customizable platform for coders of all skill levels.\n",
      "\n",
      "With its sleek interface and intuitive design, VS Code quickly gained traction as an all-in-one solution for coding, debugging, and version control. Its open-source nature allowed it to be extended with plugins and extensions, transforming it into a veritable Swiss Army knife of development tools.\n",
      "\n",
      "One such user was Ava, a brilliant young software engineer. With each new project, she found herself navigating a sea of code editors, struggling to find one that met her exacting standards. When she stumbled upon VS Code, she was instantly captivated by its ease of use and its ability to seamlessly integrate with her workflow.\n",
      "\n",
      "As Ava delved deeper into VS Code, she discovered its inherent power. The IntelliSense feature provided her with real-time suggestions for code completion and syntax errors, eliminating hours of frustrating debugging. The built-in Git integration allowed her to collaborate effortlessly with her team, tracking changes and merging code with ease.\n",
      "\n",
      "Over time, VS Code became an indispensable part of Ava's coding arsenal. It streamlined her development process, enabling her to produce high-quality code in record time. Its intuitive interface allowed her to navigate complex projects with ease, and the vibrant community of users and developers provided her with invaluable support.\n",
      "\n",
      "Word of VS Code's brilliance spread like wildfire throughout the coding community. Developers from all walks of life flocked to adopt it, from seasoned professionals to aspiring beginners. It became the de facto standard for coding in a wide range of languages, from Python and JavaScript to C# and Java.\n",
      "\n",
      "As VS Code matured, it underwent constant updates and improvements, incorporating new features and enhancing existing ones. The introduction of the integrated terminal allowed users to run commands directly from the development environment, eliminating the need for separate terminal windows. The debugger was refined to provide more detailed insights into code execution, making troubleshooting a breeze.\n",
      "\n",
      "With each new iteration, VS Code continued to push the boundaries of what a development environment could be. It became more than just a tool; it transformed into a vibrant and collaborative ecosystem where developers could share knowledge, create extensions, and contribute to the ongoing evolution of the platform.\n",
      "\n",
      "And so, Visual Studio Code, the unassuming newcomer, rose to become the shining star of the development universe. It empowered coders of all levels, fostering a community of innovation and collaboration that continues to shape the future of software development.\n"
     ]
    }
   ],
   "source": [
    "import google.generativeai as genai\n",
    "\n",
    "print(settings.ENVIRONMENT)\n",
    "\n",
    "genai.configure(api_key=settings.GEMINI_API_KEY)\n",
    "model = genai.GenerativeModel(\"gemini-pro\")\n",
    "prompt = \"Write a story about vs code\"\n",
    "response = model.generate_content(prompt)\n",
    "print(response.text)"
   ]
  },
  {
   "cell_type": "code",
   "execution_count": 24,
   "metadata": {},
   "outputs": [
    {
     "name": "stdout",
     "output_type": "stream",
     "text": [
      "[index: 0\n",
      "content {\n",
      "  parts {\n",
      "    text: \"In the realm of software development, a new star emerged, illuminating the path towards code efficiency and collaboration. Its name was Visual Studio Code, or VS Code as it was affectionately known.\\n\\nOnce upon a time, in a crowded landscape of development environments, VS Code made its debut as an unassuming yet ambitious newcomer. Developed by the software giant Microsoft, it offered a lightweight and customizable platform for coders of all skill levels.\\n\\nWith its sleek interface and intuitive design, VS Code quickly gained traction as an all-in-one solution for coding, debugging, and version control. Its open-source nature allowed it to be extended with plugins and extensions, transforming it into a veritable Swiss Army knife of development tools.\\n\\nOne such user was Ava, a brilliant young software engineer. With each new project, she found herself navigating a sea of code editors, struggling to find one that met her exacting standards. When she stumbled upon VS Code, she was instantly captivated by its ease of use and its ability to seamlessly integrate with her workflow.\\n\\nAs Ava delved deeper into VS Code, she discovered its inherent power. The IntelliSense feature provided her with real-time suggestions for code completion and syntax errors, eliminating hours of frustrating debugging. The built-in Git integration allowed her to collaborate effortlessly with her team, tracking changes and merging code with ease.\\n\\nOver time, VS Code became an indispensable part of Ava\\'s coding arsenal. It streamlined her development process, enabling her to produce high-quality code in record time. Its intuitive interface allowed her to navigate complex projects with ease, and the vibrant community of users and developers provided her with invaluable support.\\n\\nWord of VS Code\\'s brilliance spread like wildfire throughout the coding community. Developers from all walks of life flocked to adopt it, from seasoned professionals to aspiring beginners. It became the de facto standard for coding in a wide range of languages, from Python and JavaScript to C# and Java.\\n\\nAs VS Code matured, it underwent constant updates and improvements, incorporating new features and enhancing existing ones. The introduction of the integrated terminal allowed users to run commands directly from the development environment, eliminating the need for separate terminal windows. The debugger was refined to provide more detailed insights into code execution, making troubleshooting a breeze.\\n\\nWith each new iteration, VS Code continued to push the boundaries of what a development environment could be. It became more than just a tool; it transformed into a vibrant and collaborative ecosystem where developers could share knowledge, create extensions, and contribute to the ongoing evolution of the platform.\\n\\nAnd so, Visual Studio Code, the unassuming newcomer, rose to become the shining star of the development universe. It empowered coders of all levels, fostering a community of innovation and collaboration that continues to shape the future of software development.\"\n",
      "  }\n",
      "  role: \"model\"\n",
      "}\n",
      "finish_reason: STOP\n",
      "safety_ratings {\n",
      "  category: HARM_CATEGORY_SEXUALLY_EXPLICIT\n",
      "  probability: NEGLIGIBLE\n",
      "}\n",
      "safety_ratings {\n",
      "  category: HARM_CATEGORY_HATE_SPEECH\n",
      "  probability: NEGLIGIBLE\n",
      "}\n",
      "safety_ratings {\n",
      "  category: HARM_CATEGORY_HARASSMENT\n",
      "  probability: NEGLIGIBLE\n",
      "}\n",
      "safety_ratings {\n",
      "  category: HARM_CATEGORY_DANGEROUS_CONTENT\n",
      "  probability: NEGLIGIBLE\n",
      "}\n",
      "]\n"
     ]
    }
   ],
   "source": [
    "print(response.candidates)"
   ]
  }
 ],
 "metadata": {
  "kernelspec": {
   "display_name": ".venv",
   "language": "python",
   "name": "python3"
  },
  "language_info": {
   "codemirror_mode": {
    "name": "ipython",
    "version": 3
   },
   "file_extension": ".py",
   "mimetype": "text/x-python",
   "name": "python",
   "nbconvert_exporter": "python",
   "pygments_lexer": "ipython3",
   "version": "3.12.2"
  }
 },
 "nbformat": 4,
 "nbformat_minor": 2
}
