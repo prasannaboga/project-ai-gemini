{
 "cells": [
  {
   "cell_type": "code",
   "execution_count": null,
   "metadata": {},
   "outputs": [],
   "source": [
    "from project_cvb.config.settings import Settings\n",
    "\n",
    "settings = Settings()\n",
    "environment = settings.ENVIRONMENT\n",
    "# print(settings)"
   ]
  },
  {
   "cell_type": "code",
   "execution_count": null,
   "metadata": {},
   "outputs": [],
   "source": [
    "import google.generativeai as genai\n",
    "from PIL import Image\n",
    "\n",
    "print(settings.ENVIRONMENT)\n",
    "\n",
    "genai.configure(api_key=settings.GEMINI_API_KEY)\n",
    "model = genai.GenerativeModel(\"gemini-pro-vision\")\n",
    "prompt = \"Compare given images, which once is effective\"\n",
    "response = model.generate_content([prompt, Image.open(\"python-hello-world.png\"), Image.open(\"ruby-hello-world.png\")])\n",
    "print(response.text)"
   ]
  },
  {
   "cell_type": "code",
   "execution_count": null,
   "metadata": {},
   "outputs": [],
   "source": [
    "print(response.candidates)"
   ]
  }
 ],
 "metadata": {
  "kernelspec": {
   "display_name": ".venv",
   "language": "python",
   "name": "python3"
  },
  "language_info": {
   "codemirror_mode": {
    "name": "ipython",
    "version": 3
   },
   "file_extension": ".py",
   "mimetype": "text/x-python",
   "name": "python",
   "nbconvert_exporter": "python",
   "pygments_lexer": "ipython3",
   "version": "3.12.2"
  }
 },
 "nbformat": 4,
 "nbformat_minor": 2
}
