{
 "cells": [
  {
   "cell_type": "code",
   "execution_count": null,
   "metadata": {},
   "outputs": [],
   "source": [
    "from project_cvb.config.settings import Settings\n",
    "\n",
    "settings = Settings()\n",
    "environment = settings.ENVIRONMENT\n",
    "# print(settings)"
   ]
  },
  {
   "cell_type": "code",
   "execution_count": null,
   "metadata": {},
   "outputs": [],
   "source": [
    "import google.generativeai as genai\n",
    "\n",
    "print(settings.ENVIRONMENT)\n",
    "\n",
    "genai.configure(api_key=settings.GEMINI_API_KEY)\n",
    "model = genai.GenerativeModel(\"gemini-pro\")\n",
    "\n",
    "histories = [\n",
    "    {\n",
    "        \"role\": \"user\",\n",
    "        \"parts\": \"I am having 5 cars, 2 cycles, 3 apples and 4 graphes\"\n",
    "    },\n",
    "    {\n",
    "        \"role\": \"model\",\n",
    "        \"parts\": \"Great to meet you. What would you like to know?\"\n",
    "    },\n",
    "    {\n",
    "        \"role\": \"user\",\n",
    "        \"parts\": \"Alex gave me 3 apples and 3 organges\"\n",
    "    },\n",
    "    {\n",
    "        \"role\": \"model\",\n",
    "        \"parts\": \"Alex is nice guy\"\n",
    "    },\n",
    "]\n",
    "\n",
    "chat = model.start_chat(history=histories)\n",
    "response = chat.send_message(\"How many fruits I am having after alex.\")\n",
    "print(response.text)\n",
    "\n",
    "response = chat.send_message(\"How many total apples we have.\", stream=True)\n",
    "for chunk in response:\n",
    "  print(chunk.text)\n",
    "  print(\"_\"*80)\n",
    "\n",
    "count_tokens = model.count_tokens(chat.history)\n",
    "print(\"count_tokens \", count_tokens)"
   ]
  }
 ],
 "metadata": {
  "kernelspec": {
   "display_name": ".venv",
   "language": "python",
   "name": "python3"
  },
  "language_info": {
   "codemirror_mode": {
    "name": "ipython",
    "version": 3
   },
   "file_extension": ".py",
   "mimetype": "text/x-python",
   "name": "python",
   "nbconvert_exporter": "python",
   "pygments_lexer": "ipython3",
   "version": "3.12.2"
  }
 },
 "nbformat": 4,
 "nbformat_minor": 2
}
